{
 "cells": [
  {
   "cell_type": "code",
   "execution_count": 1,
   "id": "1c85f9ce-340a-4395-ae01-5625c46e715d",
   "metadata": {},
   "outputs": [],
   "source": [
    "import numpy as np\n",
    "from PIL import Image"
   ]
  },
  {
   "cell_type": "code",
   "execution_count": null,
   "id": "9decc4c9-130c-4871-957d-1e797013d33f",
   "metadata": {},
   "outputs": [],
   "source": [
    "my_image = Image.open(\"./enter signature image\").convert('RGB')\n",
    "\n",
    "my_img_normalize = np.array(my_image) / 255.0\n",
    "my_img_normalize[my_img_normalize>0.5] = 1\n",
    "\n",
    "my_img_uint8 = (my_img_normalize*255).astype(np.uint8)\n",
    "my_img_final = Image.fromarray(my_img_uint8)\n",
    "my_img_final.save(\"./my_modified_image.png\")"
   ]
  }
 ],
 "metadata": {
  "kernelspec": {
   "display_name": "env_ybs",
   "language": "python",
   "name": "env_ybs"
  },
  "language_info": {
   "codemirror_mode": {
    "name": "ipython",
    "version": 3
   },
   "file_extension": ".py",
   "mimetype": "text/x-python",
   "name": "python",
   "nbconvert_exporter": "python",
   "pygments_lexer": "ipython3",
   "version": "3.10.10"
  }
 },
 "nbformat": 4,
 "nbformat_minor": 5
}
