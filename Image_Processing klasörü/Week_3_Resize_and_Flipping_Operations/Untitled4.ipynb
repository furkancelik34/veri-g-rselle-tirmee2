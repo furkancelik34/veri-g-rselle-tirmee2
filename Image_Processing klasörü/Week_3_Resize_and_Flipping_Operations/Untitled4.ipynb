{
 "cells": [
  {
   "cell_type": "code",
   "execution_count": 1,
   "id": "bcb19985-072b-4e53-ae38-d985657f1e6e",
   "metadata": {},
   "outputs": [],
   "source": [
    "import cv2 \n",
    "\n",
    "import numpy as np\n",
    "\n"
   ]
  },
  {
   "cell_type": "code",
   "execution_count": 31,
   "id": "7af86e1d-7bf1-4ea0-b8fd-e9507b7e1048",
   "metadata": {},
   "outputs": [
    {
     "name": "stdout",
     "output_type": "stream",
     "text": [
      "(550, 550, 3)\n"
     ]
    }
   ],
   "source": [
    "my_img = cv2.imread(\"./resim.jpg\",1)\n",
    "print(my_img.shape)\n"
   ]
  },
  {
   "cell_type": "code",
   "execution_count": 35,
   "id": "5394ba47-40f9-4f21-a97f-a37b6bbfd49d",
   "metadata": {},
   "outputs": [],
   "source": [
    "cv2.imshow(\"RGB Image\",my_img)\n",
    "cv2.waitKey(0)\n",
    "cv2.destroyAllWindows()"
   ]
  },
  {
   "cell_type": "code",
   "execution_count": 37,
   "id": "275c17af-5675-40d4-bb1c-c7c0e0050fb1",
   "metadata": {},
   "outputs": [],
   "source": [
    "# Flipping (Döndürme işlemleri)\n",
    "# Flipping, bir görüntüyü dikey, yatay ve hem dikey hem de yatay\n",
    "# olarak 180 derece döndürmeye yarar\n",
    "\n",
    "# cv2.flip(görüntü_değişkeninin_adı, döndürme tamsayı değeri)\n",
    "\n",
    "#cv2.flip(my_img, 0) => görüntüyü dikey eksende 180 derece döndürür\n",
    "#cv2.flip(my_img, 1) => görüntüyü yatay eksende 180 derece döndürür\n",
    "#cv2.flip(my_img, -1) => görüntüyü hem dikey hem de yatay eksende 180 derece döndürür\n",
    "\n",
    "vertical_img = cv2.flip(my_img, 0)\n",
    "horizontal_img = cv2.flip(my_img, 1)\n",
    "both_img = cv2.flip(my_img, -1)"
   ]
  },
  {
   "cell_type": "code",
   "execution_count": 41,
   "id": "5a65cd84-f1bf-4836-b826-a2bbcab92a8a",
   "metadata": {},
   "outputs": [],
   "source": [
    "cv2.imshow(\"Original Image\",my_img)\n",
    "cv2.imshow(\"Vertical Image\",vertical_img)\n",
    "cv2.imshow(\"horizontal Image\",horizontal_img)\n",
    "cv2.imshow(\"Vertical and horizontaL Image\",both_img)\n",
    "cv2.waitKey(0)\n",
    "cv2.destroyAllWindows()"
   ]
  },
  {
   "cell_type": "code",
   "execution_count": 43,
   "id": "69e32b6e-f5fa-4e3d-9a7a-3467fe859721",
   "metadata": {},
   "outputs": [],
   "source": [
    "new_vertical_img = my_img[::-1,:,:]\n",
    "new_horizontal_img = my_img[:,::-1,:]\n",
    "new_both_img = my_img[::-1,::-1,:]"
   ]
  },
  {
   "cell_type": "code",
   "execution_count": 45,
   "id": "8e8664c7-51b6-4559-a0fb-b0e4948c4bb1",
   "metadata": {},
   "outputs": [
    {
     "data": {
      "text/plain": [
       "numpy.ndarray"
      ]
     },
     "execution_count": 45,
     "metadata": {},
     "output_type": "execute_result"
    }
   ],
   "source": [
    "type(my_img)"
   ]
  },
  {
   "cell_type": "code",
   "execution_count": 47,
   "id": "691f1d51-ad74-44f5-a900-e7129091a0b3",
   "metadata": {},
   "outputs": [
    {
     "name": "stdout",
     "output_type": "stream",
     "text": [
      "[1, 2, 3, 4, 5, 6, 7, 8, 9, 10]\n",
      "[1, 2, 3, 4, 5, 6, 7, 8, 9, 10]\n",
      "listenin ilk elemanı = 1\n",
      "listenin son elemanı = 10\n",
      "listenin son elemanı (tekrar) = 10\n",
      "listenin ilk elemanı (tekrar) = 1\n"
     ]
    }
   ],
   "source": [
    "my_list = [x for x in range(1,11)]\n",
    "print(my_list)\n",
    "print(my_list[:])\n",
    "print(f\"listenin ilk elemanı = {my_list[0]}\")\n",
    "print(f\"listenin son elemanı = {my_list[9]}\")\n",
    "print(f\"listenin son elemanı (tekrar) = {my_list[-1]}\")\n",
    "print(f\"listenin ilk elemanı (tekrar) = {my_list[-10]}\")"
   ]
  },
  {
   "cell_type": "code",
   "execution_count": 49,
   "id": "eb2b6a3b-95e2-43c2-91cf-ccf318bf2359",
   "metadata": {},
   "outputs": [
    {
     "data": {
      "text/plain": [
       "array([[11, 30, 38],\n",
       "       [47, 15, 30],\n",
       "       [43, 45, 34]], dtype=int32)"
      ]
     },
     "execution_count": 49,
     "metadata": {},
     "output_type": "execute_result"
    }
   ],
   "source": [
    "my_matris = np.random.randint(1,50,(3,3))\n",
    "my_matris"
   ]
  },
  {
   "cell_type": "code",
   "execution_count": 51,
   "id": "b0ed6586-56e5-4186-9494-7ea42fb32754",
   "metadata": {},
   "outputs": [
    {
     "data": {
      "text/plain": [
       "np.int32(15)"
      ]
     },
     "execution_count": 51,
     "metadata": {},
     "output_type": "execute_result"
    }
   ],
   "source": [
    "my_matris[1][1]"
   ]
  },
  {
   "cell_type": "code",
   "execution_count": 53,
   "id": "dd0f1b29-2b49-4f38-96a0-61b04addb0d1",
   "metadata": {},
   "outputs": [
    {
     "name": "stdout",
     "output_type": "stream",
     "text": [
      "[1, 2, 3, 4, 5, 6, 7, 8, 9, 10]\n",
      "[10, 9, 8, 7, 6, 5, 4, 3, 2, 1]\n"
     ]
    }
   ],
   "source": [
    "print(my_list[:])\n",
    "print(my_list[::-1])"
   ]
  },
  {
   "cell_type": "code",
   "execution_count": 55,
   "id": "dd43f4a7-6227-4073-9ec9-1b75b86e099f",
   "metadata": {},
   "outputs": [
    {
     "name": "stdout",
     "output_type": "stream",
     "text": [
      "(550, 550, 3)\n",
      "Görüntünün Yüksekliği = 550\n",
      "Görüntünün Genişliği = 550\n",
      "Görüntünün Kanal Sayısı = 3\n"
     ]
    }
   ],
   "source": [
    "print(my_img.shape)\n",
    "print(f\"Görüntünün Yüksekliği = {my_img.shape[0]}\")\n",
    "print(f\"Görüntünün Genişliği = {my_img.shape[1]}\")\n",
    "print(f\"Görüntünün Kanal Sayısı = {my_img.shape[2]}\")"
   ]
  },
  {
   "cell_type": "code",
   "execution_count": 57,
   "id": "bf584962-ce0b-4c14-b97d-2ac1b00b1fd5",
   "metadata": {},
   "outputs": [],
   "source": [
    "#Hazır fonksiyonla değil de sadece kodla da görüntülerin\n",
    "#180 derece tersini alabiliriz.\n",
    "\n",
    "#Dikey eksende görüntünün tersini almak için\n",
    "new_vertical_img = my_img[::-1,:,:]\n",
    "\n",
    "#Yatay eksende görüntünün tersini almak için\n",
    "new_horizontal_img = my_img[:,::-1,:]\n",
    "\n",
    "#Hem dikey hem de yatay eksende görüntünün tersini almak için\n",
    "new_both_img = my_img[::-1,::-1,:]"
   ]
  },
  {
   "cell_type": "code",
   "execution_count": null,
   "id": "7003a40a-506c-4203-a647-3907b29c0b4c",
   "metadata": {},
   "outputs": [],
   "source": [
    "cv2.imshow(\"Original Image\",my_img)\n",
    "cv2.imshow(\"Vertical Image\",new_vertical_img)\n",
    "cv2.imshow(\"Horizontal Image\",new_horizontal_img)\n",
    "cv2.imshow(\"Vertical and Horizontal Image\",new_both_img)\n",
    "cv2.waitKey(0)\n",
    "cv2.destroyAllWindows()"
   ]
  },
  {
   "cell_type": "code",
   "execution_count": null,
   "id": "db82ad40-9688-4ccf-ae6c-1c9c4f7d90ad",
   "metadata": {},
   "outputs": [],
   "source": [
    "# Resize (Görüntünün yükseklik ve genişliğini yeniden ayarlama)\n",
    "\n",
    "print(my_img.shape)\n",
    "print(f\"Görüntünün Yüksekliği = {my_img.shape[0]}\")\n",
    "print(f\"Görüntünün Genişliği = {my_img.shape[1]}\")\n",
    "print(f\"Görüntünün Kanal Sayısı = {my_img.shape[2]}\")"
   ]
  },
  {
   "cell_type": "code",
   "execution_count": null,
   "id": "47caad7b-1b0f-4ca6-a3b1-a3e0ed912eff",
   "metadata": {},
   "outputs": [],
   "source": [
    "# cv2'de görüntü okunduğu zaman önce yükseklik sonra genişlik\n",
    "# bilgisi verilir.\n",
    "# Ancak, işlem yapılacağı zaman (resize) önce genişlik sonra\n",
    "# yükseklik bilgisi girilir.\n",
    "\n",
    "# Büyütmek için CUBIC, küçültmek için AREA interplasyon\n",
    "# teknikleri kullanılırdı. Şimdi ise her ikisinde de\n",
    "# LANCZOS4 tekniği kullanılır.\n",
    "\n",
    "my_resized_img = cv2.resize(my_img,(600,450),cv2.INTER_LANCZOS4)\n",
    "\n",
    "cv2.imshow(\"Original Image\",my_img)\n",
    "cv2.imshow(\"Resized Image\",my_resized_img)\n",
    "cv2.waitKey(0)\n",
    "cv2.destroyAllWindows()"
   ]
  },
  {
   "cell_type": "code",
   "execution_count": null,
   "id": "1042caac-849b-4150-b1cf-4de10429fe3d",
   "metadata": {},
   "outputs": [],
   "source": [
    "cv2.imwrite(\"./resized_image_output.png\",my_resized_img)"
   ]
  },
  {
   "cell_type": "code",
   "execution_count": null,
   "id": "6c9983c4-886d-4663-808c-ad64910744cc",
   "metadata": {},
   "outputs": [],
   "source": []
  }
 ],
 "metadata": {
  "kernelspec": {
   "display_name": "env_ybs",
   "language": "python",
   "name": "env_ybs"
  },
  "language_info": {
   "codemirror_mode": {
    "name": "ipython",
    "version": 3
   },
   "file_extension": ".py",
   "mimetype": "text/x-python",
   "name": "python",
   "nbconvert_exporter": "python",
   "pygments_lexer": "ipython3",
   "version": "3.10.10"
  }
 },
 "nbformat": 4,
 "nbformat_minor": 5
}
